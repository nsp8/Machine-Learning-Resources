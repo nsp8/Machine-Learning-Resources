{
  "metadata": {
    "kernelspec": {
      "language": "python",
      "display_name": "Python 3",
      "name": "python3"
    },
    "language_info": {
      "name": "python",
      "version": "3.10.13",
      "mimetype": "text/x-python",
      "codemirror_mode": {
        "name": "ipython",
        "version": 3
      },
      "pygments_lexer": "ipython3",
      "nbconvert_exporter": "python",
      "file_extension": ".py"
    },
    "kaggle": {
      "accelerator": "none",
      "dataSources": [
        {
          "sourceId": 73278,
          "databundleVersionId": 8121328,
          "sourceType": "competition"
        }
      ],
      "dockerImageVersionId": 30715,
      "isInternetEnabled": true,
      "language": "python",
      "sourceType": "notebook",
      "isGpuEnabled": false
    },
    "colab": {
      "name": "FloodPrediction (r2=0.86)",
      "provenance": [],
      "include_colab_link": true
    }
  },
  "nbformat_minor": 0,
  "nbformat": 4,
  "cells": [
    {
      "cell_type": "markdown",
      "metadata": {
        "id": "view-in-github",
        "colab_type": "text"
      },
      "source": [
        "<a href=\"https://colab.research.google.com/github/nsp8/Machine-Learning-Resources/blob/colab-ml-practice/FloodPrediction.ipynb\" target=\"_parent\"><img src=\"https://colab.research.google.com/assets/colab-badge.svg\" alt=\"Open In Colab\"/></a>"
      ]
    },
    {
      "source": [
        "\n",
        "# IMPORTANT: RUN THIS CELL IN ORDER TO IMPORT YOUR KAGGLE DATA SOURCES\n",
        "# TO THE CORRECT LOCATION (/kaggle/input) IN YOUR NOTEBOOK,\n",
        "# THEN FEEL FREE TO DELETE THIS CELL.\n",
        "# NOTE: THIS NOTEBOOK ENVIRONMENT DIFFERS FROM KAGGLE'S PYTHON\n",
        "# ENVIRONMENT SO THERE MAY BE MISSING LIBRARIES USED BY YOUR\n",
        "# NOTEBOOK.\n",
        "\n",
        "import os\n",
        "import sys\n",
        "from tempfile import NamedTemporaryFile\n",
        "from urllib.request import urlopen\n",
        "from urllib.parse import unquote, urlparse\n",
        "from urllib.error import HTTPError\n",
        "from zipfile import ZipFile\n",
        "import tarfile\n",
        "import shutil\n",
        "\n",
        "CHUNK_SIZE = 40960\n",
        "DATA_SOURCE_MAPPING = 'playground-series-s4e5:https%3A%2F%2Fstorage.googleapis.com%2Fkaggle-competitions-data%2Fkaggle-v2%2F73278%2F8121328%2Fbundle%2Farchive.zip%3FX-Goog-Algorithm%3DGOOG4-RSA-SHA256%26X-Goog-Credential%3Dgcp-kaggle-com%2540kaggle-161607.iam.gserviceaccount.com%252F20240601%252Fauto%252Fstorage%252Fgoog4_request%26X-Goog-Date%3D20240601T000026Z%26X-Goog-Expires%3D259200%26X-Goog-SignedHeaders%3Dhost%26X-Goog-Signature%3D1a828a1ed098bff8700cbc72f59394d8a3488f06daa8097e503ba0342210d6c480ee69ac1b193f3b29a0c279875b9583c1835af70a1e3b3882ef18b8ab6fa70cfb2fa90bec1557afdd4eaf3423773d8269898bccfd22ef58adc19bd7115c97913f98fcc012134894b9d7dad59a876bad8e1cd02145fd42488f38c4b45dc2cf40a67d70035d8b0470f00eb5d1eff447b2e46199840f43b3bdd27950bf4012bb9226d3faa88d6e5da0bc0c96b5d451cdd05940a647ff350dab17b306db42d7ee008622564a2bf197abcf5fb0202c60e8a048a5099345037c8f126b8e6a5d650956bf94648db05a999eaf0ec09510464624caea6071e376e69e26fad0d701b27c9e'\n",
        "\n",
        "KAGGLE_INPUT_PATH='/kaggle/input'\n",
        "KAGGLE_WORKING_PATH='/kaggle/working'\n",
        "KAGGLE_SYMLINK='kaggle'\n",
        "\n",
        "!umount /kaggle/input/ 2> /dev/null\n",
        "shutil.rmtree('/kaggle/input', ignore_errors=True)\n",
        "os.makedirs(KAGGLE_INPUT_PATH, 0o777, exist_ok=True)\n",
        "os.makedirs(KAGGLE_WORKING_PATH, 0o777, exist_ok=True)\n",
        "\n",
        "try:\n",
        "  os.symlink(KAGGLE_INPUT_PATH, os.path.join(\"..\", 'input'), target_is_directory=True)\n",
        "except FileExistsError:\n",
        "  pass\n",
        "try:\n",
        "  os.symlink(KAGGLE_WORKING_PATH, os.path.join(\"..\", 'working'), target_is_directory=True)\n",
        "except FileExistsError:\n",
        "  pass\n",
        "\n",
        "for data_source_mapping in DATA_SOURCE_MAPPING.split(','):\n",
        "    directory, download_url_encoded = data_source_mapping.split(':')\n",
        "    download_url = unquote(download_url_encoded)\n",
        "    filename = urlparse(download_url).path\n",
        "    destination_path = os.path.join(KAGGLE_INPUT_PATH, directory)\n",
        "    try:\n",
        "        with urlopen(download_url) as fileres, NamedTemporaryFile() as tfile:\n",
        "            total_length = fileres.headers['content-length']\n",
        "            print(f'Downloading {directory}, {total_length} bytes compressed')\n",
        "            dl = 0\n",
        "            data = fileres.read(CHUNK_SIZE)\n",
        "            while len(data) > 0:\n",
        "                dl += len(data)\n",
        "                tfile.write(data)\n",
        "                done = int(50 * dl / int(total_length))\n",
        "                sys.stdout.write(f\"\\r[{'=' * done}{' ' * (50-done)}] {dl} bytes downloaded\")\n",
        "                sys.stdout.flush()\n",
        "                data = fileres.read(CHUNK_SIZE)\n",
        "            if filename.endswith('.zip'):\n",
        "              with ZipFile(tfile) as zfile:\n",
        "                zfile.extractall(destination_path)\n",
        "            else:\n",
        "              with tarfile.open(tfile.name) as tarfile:\n",
        "                tarfile.extractall(destination_path)\n",
        "            print(f'\\nDownloaded and uncompressed: {directory}')\n",
        "    except HTTPError as e:\n",
        "        print(f'Failed to load (likely expired) {download_url} to path {destination_path}')\n",
        "        continue\n",
        "    except OSError as e:\n",
        "        print(f'Failed to load {download_url} to path {destination_path}')\n",
        "        continue\n",
        "\n",
        "print('Data source import complete.')\n"
      ],
      "metadata": {
        "id": "kt_ginjyGQJG"
      },
      "cell_type": "code",
      "outputs": [],
      "execution_count": null
    },
    {
      "cell_type": "code",
      "source": [
        "# This Python 3 environment comes with many helpful analytics libraries installed\n",
        "# It is defined by the kaggle/python Docker image: https://github.com/kaggle/docker-python\n",
        "# For example, here's several helpful packages to load\n",
        "\n",
        "import numpy as np # linear algebra\n",
        "import pandas as pd # data processing, CSV file I/O (e.g. pd.read_csv)\n",
        "\n",
        "# Input data files are available in the read-only \"../input/\" directory\n",
        "# For example, running this (by clicking run or pressing Shift+Enter) will list all files under the input directory\n",
        "\n",
        "import os\n",
        "for dirname, _, filenames in os.walk('/kaggle/input'):\n",
        "    for filename in filenames:\n",
        "        print(os.path.join(dirname, filename))\n",
        "\n",
        "# You can write up to 20GB to the current directory (/kaggle/working/) that gets preserved as output when you create a version using \"Save & Run All\"\n",
        "# You can also write temporary files to /kaggle/temp/, but they won't be saved outside of the current session"
      ],
      "metadata": {
        "_uuid": "8f2839f25d086af736a60e9eeb907d3b93b6e0e5",
        "_cell_guid": "b1076dfc-b9ad-4769-8c92-a6c4dae69d19",
        "execution": {
          "iopub.status.busy": "2024-05-31T21:36:14.813728Z",
          "iopub.execute_input": "2024-05-31T21:36:14.814124Z",
          "iopub.status.idle": "2024-05-31T21:36:15.310871Z",
          "shell.execute_reply.started": "2024-05-31T21:36:14.814095Z",
          "shell.execute_reply": "2024-05-31T21:36:15.309531Z"
        },
        "trusted": true,
        "id": "ye-5eC4cGQJI"
      },
      "execution_count": null,
      "outputs": []
    },
    {
      "cell_type": "markdown",
      "source": [
        "## **Imports**"
      ],
      "metadata": {
        "id": "P5kArt4AGQJJ"
      }
    },
    {
      "cell_type": "markdown",
      "source": [],
      "metadata": {
        "id": "XYeUQmcfGQJK"
      }
    },
    {
      "cell_type": "code",
      "source": [
        "import matplotlib.pyplot as plt\n",
        "from matplotlib.patheffects import withStroke\n",
        "import seaborn as sns\n",
        "from sklearn.decomposition import PCA\n",
        "from sklearn.feature_selection import mutual_info_regression\n",
        "from sklearn.metrics import r2_score\n",
        "from sklearn.model_selection import cross_val_score, train_test_split\n",
        "from sklearn.pipeline import make_pipeline\n",
        "from sklearn.preprocessing import StandardScaler, MinMaxScaler\n",
        "from xgboost import XGBRegressor"
      ],
      "metadata": {
        "execution": {
          "iopub.status.busy": "2024-05-31T22:54:44.838444Z",
          "iopub.execute_input": "2024-05-31T22:54:44.839271Z",
          "iopub.status.idle": "2024-05-31T22:54:44.85309Z",
          "shell.execute_reply.started": "2024-05-31T22:54:44.839221Z",
          "shell.execute_reply": "2024-05-31T22:54:44.8516Z"
        },
        "trusted": true,
        "id": "qkdW3ipBGQJL"
      },
      "execution_count": null,
      "outputs": []
    },
    {
      "cell_type": "markdown",
      "source": [
        "## **Data loading**"
      ],
      "metadata": {
        "id": "pQ_brD8yGQJM"
      }
    },
    {
      "cell_type": "code",
      "source": [
        "base_folder_path = \"/kaggle/input/playground-series-s4e5\"\n",
        "train_data = pd.read_csv(os.path.join(base_folder_path, \"train.csv\"))\n",
        "test_data = pd.read_csv(os.path.join(base_folder_path, \"test.csv\"))"
      ],
      "metadata": {
        "execution": {
          "iopub.status.busy": "2024-05-31T21:36:17.462971Z",
          "iopub.execute_input": "2024-05-31T21:36:17.463665Z",
          "iopub.status.idle": "2024-05-31T21:36:21.804706Z",
          "shell.execute_reply.started": "2024-05-31T21:36:17.463627Z",
          "shell.execute_reply": "2024-05-31T21:36:21.803523Z"
        },
        "trusted": true,
        "id": "U8_RzQmlGQJM"
      },
      "execution_count": null,
      "outputs": []
    },
    {
      "cell_type": "markdown",
      "source": [
        "## **Data Exploration**"
      ],
      "metadata": {
        "id": "vL1dC7nZGQJM"
      }
    },
    {
      "cell_type": "code",
      "source": [
        "train_data.describe()"
      ],
      "metadata": {
        "execution": {
          "iopub.status.busy": "2024-05-31T21:36:21.806054Z",
          "iopub.execute_input": "2024-05-31T21:36:21.806429Z",
          "iopub.status.idle": "2024-05-31T21:36:22.748612Z",
          "shell.execute_reply.started": "2024-05-31T21:36:21.8064Z",
          "shell.execute_reply": "2024-05-31T21:36:22.747365Z"
        },
        "trusted": true,
        "id": "ib76Z9vbGQJM"
      },
      "execution_count": null,
      "outputs": []
    },
    {
      "cell_type": "code",
      "source": [
        "# No null counts?\n",
        "print(f\"No nulls, right? \\n> {all(train_data.isnull().sum() == 0)}\")"
      ],
      "metadata": {
        "execution": {
          "iopub.status.busy": "2024-05-31T23:36:03.71732Z",
          "iopub.execute_input": "2024-05-31T23:36:03.717995Z",
          "iopub.status.idle": "2024-05-31T23:36:03.802198Z",
          "shell.execute_reply.started": "2024-05-31T23:36:03.717949Z",
          "shell.execute_reply": "2024-05-31T23:36:03.800786Z"
        },
        "trusted": true,
        "id": "gKAU0ZJIGQJN"
      },
      "execution_count": null,
      "outputs": []
    },
    {
      "cell_type": "code",
      "source": [
        "# Data type information\n",
        "train_data.info()"
      ],
      "metadata": {
        "execution": {
          "iopub.status.busy": "2024-05-31T21:36:22.788089Z",
          "iopub.execute_input": "2024-05-31T21:36:22.78865Z",
          "iopub.status.idle": "2024-05-31T21:36:22.843279Z",
          "shell.execute_reply.started": "2024-05-31T21:36:22.788607Z",
          "shell.execute_reply": "2024-05-31T21:36:22.842476Z"
        },
        "trusted": true,
        "id": "_WytnGaZGQJO"
      },
      "execution_count": null,
      "outputs": []
    },
    {
      "cell_type": "code",
      "source": [
        "# Layout of data\n",
        "features_train = train_data.set_index(\"id\")\n",
        "target_column = \"FloodProbability\"\n",
        "label_train = features_train.pop(target_column)\n",
        "features_train.hist(bins=15, figsize=(20, 45), layout=(4, 5))"
      ],
      "metadata": {
        "execution": {
          "iopub.status.busy": "2024-05-31T21:36:22.844711Z",
          "iopub.execute_input": "2024-05-31T21:36:22.845295Z",
          "iopub.status.idle": "2024-05-31T21:36:28.7297Z",
          "shell.execute_reply.started": "2024-05-31T21:36:22.845265Z",
          "shell.execute_reply": "2024-05-31T21:36:28.728531Z"
        },
        "trusted": true,
        "id": "3G4x4qHKGQJO"
      },
      "execution_count": null,
      "outputs": []
    },
    {
      "cell_type": "markdown",
      "source": [
        "> Looks like well distributed data"
      ],
      "metadata": {
        "id": "Jm1CwPakGQJP"
      }
    },
    {
      "cell_type": "markdown",
      "source": [
        "### Visualizing standardized training data\n",
        "\n",
        "Standardizing data just for sanity"
      ],
      "metadata": {
        "id": "QVAsfeX3GQJP"
      }
    },
    {
      "cell_type": "code",
      "source": [
        "def standardize(data):\n",
        "    standard_scaler = StandardScaler()\n",
        "    standard_scaler.fit(data)\n",
        "    return standard_scaler.transform(data)\n",
        "\n",
        "features_train_standardized = pd.DataFrame(standardize(features_train), columns=features_train.columns)\n",
        "features_train_standardized.hist(bins=15, figsize=(20, 45), layout=(4, 5))"
      ],
      "metadata": {
        "execution": {
          "iopub.status.busy": "2024-05-31T21:36:28.731004Z",
          "iopub.execute_input": "2024-05-31T21:36:28.731431Z",
          "iopub.status.idle": "2024-05-31T21:36:35.504561Z",
          "shell.execute_reply.started": "2024-05-31T21:36:28.731386Z",
          "shell.execute_reply": "2024-05-31T21:36:35.503061Z"
        },
        "trusted": true,
        "id": "_GLVq8uyGQJP"
      },
      "execution_count": null,
      "outputs": []
    },
    {
      "cell_type": "markdown",
      "source": [
        "> The data was already pretty standardized too."
      ],
      "metadata": {
        "id": "WGxvxc3UGQJP"
      }
    },
    {
      "cell_type": "code",
      "source": [
        "# Repeating for the target\n",
        "def standardize_labels(label_data):\n",
        "    mean, std = label_data.mean(), label_data.std()\n",
        "    return label_data.apply(lambda v: (v - mean) / std)\n",
        "\n",
        "\n",
        "label_train_standardized = pd.DataFrame(standardize_labels(label_train), columns=[target_column])\n",
        "label_train_standardized.hist(bins=15, figsize=(3, 6))"
      ],
      "metadata": {
        "execution": {
          "iopub.status.busy": "2024-05-31T22:57:27.376156Z",
          "iopub.execute_input": "2024-05-31T22:57:27.376911Z",
          "iopub.status.idle": "2024-05-31T22:57:30.636205Z",
          "shell.execute_reply.started": "2024-05-31T22:57:27.376856Z",
          "shell.execute_reply": "2024-05-31T22:57:30.634436Z"
        },
        "trusted": true,
        "id": "zIqJkHe3GQJP"
      },
      "execution_count": null,
      "outputs": []
    },
    {
      "cell_type": "markdown",
      "source": [
        "> wait, isn't this probability?"
      ],
      "metadata": {
        "id": "Tj1sxFRoGQJP"
      }
    },
    {
      "cell_type": "markdown",
      "source": [
        "### Scaling the target column to a [0, 1] range to represent probability"
      ],
      "metadata": {
        "id": "LaG-XVi_GQJQ"
      }
    },
    {
      "cell_type": "code",
      "source": [
        "target_scaler = MinMaxScaler()\n",
        "target_scaler.fit(label_train_standardized)\n",
        "label_train_transformed = target_scaler.transform(label_train_standardized)\n",
        "label_train_transformed = pd.DataFrame(label_train_transformed, columns=[target_column])\n",
        "label_train_transformed.hist(bins=15, figsize=(3, 6))"
      ],
      "metadata": {
        "execution": {
          "iopub.status.busy": "2024-05-31T23:00:04.743665Z",
          "iopub.execute_input": "2024-05-31T23:00:04.744418Z",
          "iopub.status.idle": "2024-05-31T23:00:05.634126Z",
          "shell.execute_reply.started": "2024-05-31T23:00:04.744367Z",
          "shell.execute_reply": "2024-05-31T23:00:05.632423Z"
        },
        "trusted": true,
        "id": "-J3-zAcYGQJQ"
      },
      "execution_count": null,
      "outputs": []
    },
    {
      "cell_type": "markdown",
      "source": [
        "> this looks much better"
      ],
      "metadata": {
        "id": "OzmHJQ42GQJR"
      }
    },
    {
      "cell_type": "markdown",
      "source": [
        "### Splitting data into training and testing datasets"
      ],
      "metadata": {
        "id": "tKVCCrnPGQJR"
      }
    },
    {
      "cell_type": "code",
      "source": [
        "X_train, X_test, y_train, y_test = train_test_split(\n",
        "    features_train_standardized, label_train_transformed, test_size=0.25\n",
        ")"
      ],
      "metadata": {
        "execution": {
          "iopub.status.busy": "2024-05-31T23:00:12.191946Z",
          "iopub.execute_input": "2024-05-31T23:00:12.192546Z",
          "iopub.status.idle": "2024-05-31T23:00:13.691422Z",
          "shell.execute_reply.started": "2024-05-31T23:00:12.192497Z",
          "shell.execute_reply": "2024-05-31T23:00:13.690006Z"
        },
        "trusted": true,
        "id": "h5-VPNPIGQJR"
      },
      "execution_count": null,
      "outputs": []
    },
    {
      "cell_type": "code",
      "source": [
        "# verifying the columns\n",
        "X_train.columns"
      ],
      "metadata": {
        "execution": {
          "iopub.status.busy": "2024-05-31T23:00:17.912003Z",
          "iopub.execute_input": "2024-05-31T23:00:17.912747Z",
          "iopub.status.idle": "2024-05-31T23:00:17.921774Z",
          "shell.execute_reply.started": "2024-05-31T23:00:17.9127Z",
          "shell.execute_reply": "2024-05-31T23:00:17.920493Z"
        },
        "trusted": true,
        "id": "KNsa0IK9GQJR"
      },
      "execution_count": null,
      "outputs": []
    },
    {
      "cell_type": "markdown",
      "source": [
        "#### **Taking a look at the heatmap of the feature space**"
      ],
      "metadata": {
        "id": "RbkTqFNnGQJR"
      }
    },
    {
      "cell_type": "code",
      "source": [
        "plt.figure(figsize=(20, 20))\n",
        "sns.heatmap(X_train.corr(), vmax=1, square=True, annot=True, cmap=\"plasma\")"
      ],
      "metadata": {
        "execution": {
          "iopub.status.busy": "2024-05-31T23:00:19.864515Z",
          "iopub.execute_input": "2024-05-31T23:00:19.865186Z",
          "iopub.status.idle": "2024-05-31T23:00:26.392003Z",
          "shell.execute_reply.started": "2024-05-31T23:00:19.865125Z",
          "shell.execute_reply": "2024-05-31T23:00:26.389161Z"
        },
        "trusted": true,
        "id": "Bapvm8N6GQJS"
      },
      "execution_count": null,
      "outputs": []
    },
    {
      "cell_type": "markdown",
      "source": [
        "## **Feature Analyzer**"
      ],
      "metadata": {
        "id": "TpppmC4KGQJS"
      }
    },
    {
      "cell_type": "markdown",
      "source": [
        "Analyzing features:"
      ],
      "metadata": {
        "id": "nsde-sAeGQJS"
      }
    },
    {
      "cell_type": "code",
      "source": [
        "class FeatureAnalyzer:\n",
        "    def __init__(self, X, y):\n",
        "        self.X = X\n",
        "        self.y = y\n",
        "        self.pca = PCA()\n",
        "        self.pca.fit_transform(self.X)\n",
        "\n",
        "    @property\n",
        "    def X_pca(self):\n",
        "        x_pca = self.pca.fit_transform(self.X)\n",
        "        return pd.DataFrame(x_pca, columns=[f\"PC{i+1}\" for i in range(x_pca.shape[1])])\n",
        "\n",
        "    @property\n",
        "    def pca_loadings(self):\n",
        "        return pd.DataFrame(self.pca.components_.T, columns=self.X_pca.columns, index=self.X.columns)\n",
        "\n",
        "    def plot_variance(self, width=8, dpi=100):\n",
        "        fig, axes = plt.subplots(1, 2)\n",
        "        n = self.pca.n_components_\n",
        "        print(f\"\\n{'-' * 35}\\nPCA Loadings \\n{'-' * 35}\\n\")\n",
        "        print(self.pca_loadings)\n",
        "        grid = np.arange(1, n+1)\n",
        "        explained_variance = self.pca.explained_variance_ratio_\n",
        "        axes[0].bar(grid, explained_variance)\n",
        "        axes[0].set(xlabel=\"Component\", title=\"% Explained Variance\", ylim=(0.0, 1.0))\n",
        "        cumulative_variance = np.cumsum(explained_variance)\n",
        "        axes[1].plot(np.r_[0, grid], np.r_[0, cumulative_variance], marker=\"h\")\n",
        "        axes[1].set(xlabel=\"Component\", title=\"% Cumulative Variance\", ylim=(0.0, 1.0))\n",
        "        fig.set(figwidth=width, dpi=dpi)\n",
        "        return axes\n",
        "\n",
        "    def make_mi_scores(self, discrete_features: bool = False):\n",
        "        mi_regression = mutual_info_regression(self.X, self.y, discrete_features=discrete_features)\n",
        "        return pd.Series(mi_regression, name=\"Mutual Info Scores\", index=self.X.columns).sort_values(ascending=False)\n",
        "\n",
        "    def check_outliers(self):\n",
        "        sns.catplot(\n",
        "            y=\"value\",\n",
        "            col=\"variable\",\n",
        "            data=self.X_pca.melt(),\n",
        "            kind=\"boxen\",\n",
        "            sharey=False,\n",
        "            col_wrap=2\n",
        "        )\n",
        "\n",
        "\n",
        "def show_feature_analysis_artifacts(X, y, show_mi_scores=True, show_outliers=True):\n",
        "    feature_analyzer = FeatureAnalyzer(X, y)\n",
        "    feature_analyzer.plot_variance()\n",
        "    if show_mi_scores:\n",
        "        mi_scores = feature_analyzer.make_mi_scores()\n",
        "        print(f\"\\n{'-' * 35}\\nMutual Information Scores \\n{'-' * 35}\\n\")\n",
        "        print(mi_scores)\n",
        "    if show_outliers:\n",
        "        feature_analyzer.check_outliers()\n",
        "    return feature_analyzer\n",
        "\n",
        "\n",
        "feature_analyzer_object = show_feature_analysis_artifacts(\n",
        "    X_train, y_train, show_mi_scores=False, show_outliers=False\n",
        ")"
      ],
      "metadata": {
        "execution": {
          "iopub.status.busy": "2024-05-31T23:00:34.161846Z",
          "iopub.execute_input": "2024-05-31T23:00:34.16258Z",
          "iopub.status.idle": "2024-05-31T23:00:39.045174Z",
          "shell.execute_reply.started": "2024-05-31T23:00:34.162531Z",
          "shell.execute_reply": "2024-05-31T23:00:39.043438Z"
        },
        "trusted": true,
        "id": "McBMU30vGQJS"
      },
      "execution_count": null,
      "outputs": []
    },
    {
      "cell_type": "markdown",
      "source": [
        "## **Visualization for PCA**"
      ],
      "metadata": {
        "id": "dm6id5koGQJS"
      }
    },
    {
      "cell_type": "code",
      "source": [
        "class Charts:\n",
        "    def __init__(self, data, width=18, height=9, font_family=\"Sans Serif\"):\n",
        "        self.fig, self.ax = plt.subplots(figsize=(width, height))\n",
        "        self.data = data\n",
        "        self.y_pos = [i * 0.9 for i in range(len(data))]\n",
        "        self.ax.barh(\n",
        "            self.y_pos,\n",
        "            self.data.values(),\n",
        "            height=0.55,\n",
        "            align=\"edge\",\n",
        "            color=\"blue\",\n",
        "        )\n",
        "        self.font_family = font_family\n",
        "\n",
        "    @property\n",
        "    def max_data_value(self):\n",
        "        return max(self.data.values())\n",
        "\n",
        "    @property\n",
        "    def min_data_value(self):\n",
        "        return min(self.data.values())\n",
        "\n",
        "    @property\n",
        "    def axis_period(self):\n",
        "        return int(self.max_data_value) // 10 or 1\n",
        "\n",
        "    def set_axes(self):\n",
        "        from math import ceil\n",
        "        data_size = len(self.data)\n",
        "        num_ticks = ceil(self.max_data_value)\n",
        "        self.ax.xaxis.set_ticks([i * self.axis_period for i in range(num_ticks)])\n",
        "        self.ax.xaxis.set_ticklabels(\n",
        "            [i * self.axis_period for i in range(0, num_ticks)],\n",
        "            size=16,\n",
        "            fontfamily=self.font_family,\n",
        "            fontweight=100,\n",
        "        )\n",
        "        self.ax.xaxis.set_tick_params(labelbottom=False, labeltop=True, length=0)\n",
        "        self.ax.set_axisbelow(True)\n",
        "        self.ax.grid(axis=\"x\", color=\"#8C92AC\", lw=1.2)\n",
        "        self.ax.spines[\"left\"].set_visible(False)\n",
        "        self.ax.spines[\"right\"].set_visible(False)\n",
        "        self.ax.spines[\"top\"].set_visible(False)\n",
        "        self.ax.spines[\"bottom\"].set_visible(False)\n",
        "        self.ax.spines[\"left\"].set_lw(1.5)\n",
        "        self.ax.spines[\"left\"].set_capstyle(\"butt\")\n",
        "        self.ax.yaxis.set_visible(False)\n",
        "        return self\n",
        "\n",
        "    def add_bar_text(self, label_object: dict):\n",
        "        self.ax.text(\n",
        "            x=label_object[\"x_pos\"],\n",
        "            y=label_object[\"y_pos\"],\n",
        "            s=label_object[\"text\"],\n",
        "            c=label_object[\"color\"],\n",
        "            fontfamily=self.font_family,\n",
        "            fontsize=12,\n",
        "            va=\"center\",\n",
        "            path_effects=label_object[\"path_effects\"],\n",
        "        )\n",
        "\n",
        "    def add_labels(self, padding: float = 0.3):\n",
        "        offset = 0.04\n",
        "        for label, value, y_pos in zip(\n",
        "            self.data.keys(), self.data.values(), self.y_pos\n",
        "        ):\n",
        "            metric_label = dict(\n",
        "                x_pos=int(self.min_data_value) + (padding * 2.2),\n",
        "                y_pos=(y_pos + 0.25),\n",
        "                text=label,\n",
        "                color=\"white\",\n",
        "                path_effects=[withStroke(linewidth=6, foreground=\"green\")]\n",
        "            )\n",
        "            value_label = dict(\n",
        "                x_pos=value,\n",
        "                y_pos=(y_pos + 0.25),\n",
        "                text=f\"{round(value, 3)}0\",\n",
        "                color=\"green\",\n",
        "                path_effects=[withStroke(linewidth=6, foreground=\"white\")]\n",
        "            )\n",
        "            if value < 0:\n",
        "                metric_label[\"x_pos\"] = self.min_data_value - (padding * 0.7) - offset\n",
        "                metric_label[\"path_effects\"] = [withStroke(linewidth=6, foreground=\"red\")]\n",
        "                metric_label[\"color\"] = \"white\"\n",
        "                value_label[\"color\"] = \"red\"\n",
        "                value_label[\"x_pos\"] -= offset\n",
        "            self.add_bar_text(metric_label)\n",
        "            self.add_bar_text(value_label)\n",
        "\n",
        "        return self\n",
        "\n",
        "    def add_title(self, title, pos=0.5):\n",
        "        self.fig.text(\n",
        "            pos, 0.925, title, fontsize=16, fontweight=\"bold\", fontfamily=self.font_family\n",
        "        )\n",
        "        return self\n",
        "\n",
        "    def plot(self, title=None):\n",
        "        self.set_axes().add_labels()\n",
        "        if title:\n",
        "            self.add_title(title)\n",
        "        plt.show()\n"
      ],
      "metadata": {
        "execution": {
          "iopub.status.busy": "2024-05-31T23:00:44.120331Z",
          "iopub.execute_input": "2024-05-31T23:00:44.120902Z",
          "iopub.status.idle": "2024-05-31T23:00:44.207829Z",
          "shell.execute_reply.started": "2024-05-31T23:00:44.120854Z",
          "shell.execute_reply": "2024-05-31T23:00:44.203948Z"
        },
        "trusted": true,
        "id": "XlnJhvXXGQJT"
      },
      "execution_count": null,
      "outputs": []
    },
    {
      "cell_type": "markdown",
      "source": [
        "Plotting the first principal component"
      ],
      "metadata": {
        "id": "nDAECYfbGQJT"
      }
    },
    {
      "cell_type": "code",
      "source": [
        "def plot_principal_component(feature_analyzer_object, level=1):\n",
        "    if level < 1:\n",
        "        raise ValueError(\"PC level can't be less than 1\")\n",
        "    _loadings = feature_analyzer_object.pca_loadings\n",
        "    _column = _loadings.columns[level - 1]\n",
        "    pc_dataframe = _loadings.loc[:, _column].reset_index().to_dict(orient=\"records\")\n",
        "    feature_to_pc1 = {_entry[\"index\"]: float(_entry[_column]) for _entry in pc_dataframe}\n",
        "    chart = Charts(data=feature_to_pc1, font_family=\"monospace\")\n",
        "    chart.plot(title=_column)\n",
        "\n",
        "plot_principal_component(feature_analyzer_object, level=1)"
      ],
      "metadata": {
        "execution": {
          "iopub.status.busy": "2024-05-31T23:00:45.950278Z",
          "iopub.execute_input": "2024-05-31T23:00:45.950859Z",
          "iopub.status.idle": "2024-05-31T23:00:49.300841Z",
          "shell.execute_reply.started": "2024-05-31T23:00:45.950809Z",
          "shell.execute_reply": "2024-05-31T23:00:49.299506Z"
        },
        "trusted": true,
        "id": "a9I5F2oHGQJT"
      },
      "execution_count": null,
      "outputs": []
    },
    {
      "cell_type": "markdown",
      "source": [
        "#### **Enhancing the features based on the PCA analysis**"
      ],
      "metadata": {
        "id": "IB5a5NEGGQJT"
      }
    },
    {
      "cell_type": "code",
      "source": [
        "X_train_pca = feature_analyzer_object.pca.fit_transform(X_train)\n",
        "X_test_pca = feature_analyzer_object.pca.transform(X_test)"
      ],
      "metadata": {
        "execution": {
          "iopub.status.busy": "2024-05-31T23:00:56.975501Z",
          "iopub.execute_input": "2024-05-31T23:00:56.976046Z",
          "iopub.status.idle": "2024-05-31T23:00:59.374816Z",
          "shell.execute_reply.started": "2024-05-31T23:00:56.975998Z",
          "shell.execute_reply": "2024-05-31T23:00:59.373124Z"
        },
        "trusted": true,
        "id": "oG25KNvVGQJT"
      },
      "execution_count": null,
      "outputs": []
    },
    {
      "cell_type": "markdown",
      "source": [
        "## **Modeling**"
      ],
      "metadata": {
        "id": "NIx_oXWqGQJT"
      }
    },
    {
      "cell_type": "code",
      "source": [
        "from collections import defaultdict\n",
        "\n",
        "models = defaultdict(list)"
      ],
      "metadata": {
        "execution": {
          "iopub.status.busy": "2024-05-31T23:01:02.115477Z",
          "iopub.execute_input": "2024-05-31T23:01:02.116019Z",
          "iopub.status.idle": "2024-05-31T23:01:02.129915Z",
          "shell.execute_reply.started": "2024-05-31T23:01:02.115974Z",
          "shell.execute_reply": "2024-05-31T23:01:02.12807Z"
        },
        "trusted": true,
        "id": "g9-5n3BCGQJT"
      },
      "execution_count": null,
      "outputs": []
    },
    {
      "cell_type": "markdown",
      "source": [
        "### **Trying the RandomForestRegressor**"
      ],
      "metadata": {
        "id": "Ej1TpVCbGQJU"
      }
    },
    {
      "cell_type": "code",
      "source": [
        "from sklearn.ensemble import RandomForestRegressor\n",
        "\n",
        "\n",
        "class RandomForestRegression:\n",
        "    def __init__(self, train_data, test_data, feature_list, target, num_trees=10, criterion=\"absolute_error\"):\n",
        "        self.regressor = RandomForestRegressor(\n",
        "            n_estimators=num_trees,\n",
        "            criterion=criterion,\n",
        "            n_jobs=-1\n",
        "        )\n",
        "        self.train_data = train_data\n",
        "        self.test_data = test_data\n",
        "        self.feature_list = feature_list\n",
        "        self.target = target\n",
        "\n",
        "    def fit(self):\n",
        "        train_features, train_labels = self.train_data\n",
        "        self.regressor.fit(train_features, train_labels)\n",
        "        return self\n",
        "\n",
        "    def predict(self):\n",
        "        test_features, test_labels = self.test_data\n",
        "        assert isinstance(test_features, np.ndarray)\n",
        "        assert isinstance(test_labels, pd.DataFrame)\n",
        "        dataframe = pd.DataFrame(test_features, columns=self.feature_list)\n",
        "        dataframe[self.target] = test_labels\n",
        "        dataframe[\"predictions\"] = self.regressor.predict(test_features)\n",
        "        self.prediction_data = dataframe\n",
        "        return self\n",
        "\n",
        "    def set_metrics(self):\n",
        "        y_pred, y_true = self.prediction_data[\"predictions\"], self.prediction_data[self.target]\n",
        "        self.r2_score = r2_score(y_true, y_pred)"
      ],
      "metadata": {
        "execution": {
          "iopub.status.busy": "2024-05-31T21:36:57.596198Z",
          "iopub.execute_input": "2024-05-31T21:36:57.596609Z",
          "iopub.status.idle": "2024-05-31T21:36:57.712557Z",
          "shell.execute_reply.started": "2024-05-31T21:36:57.596579Z",
          "shell.execute_reply": "2024-05-31T21:36:57.711195Z"
        },
        "trusted": true,
        "id": "jjKGpXg4GQJU"
      },
      "execution_count": null,
      "outputs": []
    },
    {
      "cell_type": "code",
      "source": [
        "rf_regressor_model = RandomForestRegression(\n",
        "    train_data=(X_train_pca, y_train),\n",
        "    test_data=(X_test_pca, y_test),\n",
        "    feature_list=X_train.columns,\n",
        "    target=target_column,\n",
        "    num_trees=5\n",
        ")\n",
        "# rf_regressor_model.fit().train().set_metrics()"
      ],
      "metadata": {
        "execution": {
          "iopub.status.busy": "2024-05-31T21:37:33.773523Z",
          "iopub.execute_input": "2024-05-31T21:37:33.77398Z",
          "iopub.status.idle": "2024-05-31T21:37:33.779942Z",
          "shell.execute_reply.started": "2024-05-31T21:37:33.773947Z",
          "shell.execute_reply": "2024-05-31T21:37:33.778871Z"
        },
        "trusted": true,
        "id": "PJQpksrsGQJU"
      },
      "execution_count": null,
      "outputs": []
    },
    {
      "cell_type": "markdown",
      "source": [
        "> this took forever to converge to a result; * *sigh* * moving on..."
      ],
      "metadata": {
        "id": "oo-q0B_NGQJU"
      }
    },
    {
      "cell_type": "markdown",
      "source": [
        "### **XGBoost Regressor**"
      ],
      "metadata": {
        "id": "UKjjJJDuGQJV"
      }
    },
    {
      "cell_type": "markdown",
      "source": [
        "#### Training the XGBRegressor model:"
      ],
      "metadata": {
        "id": "zFxfr1tAGQJV"
      }
    },
    {
      "cell_type": "code",
      "source": [
        "xgbregressor_model = XGBRegressor(\n",
        "    n_estimators=1000,\n",
        "    learning_rate=0.1,\n",
        "    early_stopping_rounds=500,\n",
        "    n_jobs=5,\n",
        "    reg_lambda=1e-4,\n",
        "    tree_method=\"hist\",\n",
        "    eval_metric=r2_score\n",
        ")\n",
        "xgbregressor_model.fit(X_train_pca, y_train, eval_set=[(X_test_pca, y_test)], verbose=False)"
      ],
      "metadata": {
        "execution": {
          "iopub.status.busy": "2024-05-31T23:01:16.991044Z",
          "iopub.execute_input": "2024-05-31T23:01:16.991636Z",
          "iopub.status.idle": "2024-05-31T23:08:05.976926Z",
          "shell.execute_reply.started": "2024-05-31T23:01:16.991593Z",
          "shell.execute_reply": "2024-05-31T23:08:05.975258Z"
        },
        "trusted": true,
        "id": "mQ2bNqDhGQJV"
      },
      "execution_count": null,
      "outputs": []
    },
    {
      "cell_type": "markdown",
      "source": [
        "#### Calculating the predictions:"
      ],
      "metadata": {
        "id": "M3h6TEjPGQJV"
      }
    },
    {
      "cell_type": "code",
      "source": [
        "predictions_valid = xgbregressor_model.predict(X_test_pca)"
      ],
      "metadata": {
        "execution": {
          "iopub.status.busy": "2024-05-31T23:41:08.040722Z",
          "iopub.execute_input": "2024-05-31T23:41:08.041268Z",
          "iopub.status.idle": "2024-05-31T23:41:08.125681Z",
          "shell.execute_reply.started": "2024-05-31T23:41:08.04122Z",
          "shell.execute_reply": "2024-05-31T23:41:08.124601Z"
        },
        "trusted": true,
        "id": "oYEC1urGGQJV"
      },
      "execution_count": null,
      "outputs": []
    },
    {
      "cell_type": "markdown",
      "source": [
        "#### Checking the error metric"
      ],
      "metadata": {
        "id": "ok4JkSi9GQJV"
      }
    },
    {
      "cell_type": "code",
      "source": [
        "from sklearn.metrics import mean_squared_error\n",
        "\n",
        "print(f\"Validation set prediction error: {mean_squared_error(y_test, predictions_valid):.4f}\")"
      ],
      "metadata": {
        "execution": {
          "iopub.status.busy": "2024-05-31T23:43:42.722657Z",
          "iopub.execute_input": "2024-05-31T23:43:42.723476Z",
          "iopub.status.idle": "2024-05-31T23:43:42.742715Z",
          "shell.execute_reply.started": "2024-05-31T23:43:42.723424Z",
          "shell.execute_reply": "2024-05-31T23:43:42.741381Z"
        },
        "trusted": true,
        "id": "iPYpxb5tGQJV"
      },
      "execution_count": null,
      "outputs": []
    },
    {
      "cell_type": "markdown",
      "source": [
        "#### Making final predictions"
      ],
      "metadata": {
        "id": "pshrtSe5GQJW"
      }
    },
    {
      "cell_type": "code",
      "source": [
        "final_predictions = xgbregressor_model.predict(features_train_standardized)\n",
        "print(f\"Test set prediction error: {mean_squared_error(label_train_transformed, final_predictions):.4f}\")"
      ],
      "metadata": {
        "execution": {
          "iopub.status.busy": "2024-05-31T23:44:30.777273Z",
          "iopub.execute_input": "2024-05-31T23:44:30.777979Z",
          "iopub.status.idle": "2024-05-31T23:44:31.310026Z",
          "shell.execute_reply.started": "2024-05-31T23:44:30.777929Z",
          "shell.execute_reply": "2024-05-31T23:44:31.308418Z"
        },
        "trusted": true,
        "id": "XbmdLqhIGQJW"
      },
      "execution_count": null,
      "outputs": []
    },
    {
      "cell_type": "markdown",
      "source": [
        "### **Conveying the $R^2$ score**"
      ],
      "metadata": {
        "id": "U7sdDLNfGQJW"
      }
    },
    {
      "cell_type": "code",
      "source": [
        "r2_score_max = max(xgbregressor_model.evals_result_[\"validation_0\"][\"r2_score\"])\n",
        "print(f\"R2 Score: {r2_score_max}\")"
      ],
      "metadata": {
        "execution": {
          "iopub.status.busy": "2024-05-31T23:44:38.202412Z",
          "iopub.execute_input": "2024-05-31T23:44:38.203094Z",
          "iopub.status.idle": "2024-05-31T23:44:38.209838Z",
          "shell.execute_reply.started": "2024-05-31T23:44:38.203044Z",
          "shell.execute_reply": "2024-05-31T23:44:38.208682Z"
        },
        "trusted": true,
        "id": "vZ6VNVChGQJX"
      },
      "execution_count": null,
      "outputs": []
    },
    {
      "cell_type": "markdown",
      "source": [
        "## **Saving the output**\n",
        "\n",
        "Storing the result in the submission file"
      ],
      "metadata": {
        "id": "Ll_dmhaZGQJX"
      }
    },
    {
      "cell_type": "code",
      "source": [
        "output_df = pd.DataFrame(final_predictions, columns=[target_column], index=label_train_transformed.index).reset_index().rename(columns={\"index\": \"id\"})\n",
        "output_df.to_csv(\"submission.csv\", index=False)"
      ],
      "metadata": {
        "execution": {
          "iopub.status.busy": "2024-05-31T23:52:02.620891Z",
          "iopub.execute_input": "2024-05-31T23:52:02.621649Z",
          "iopub.status.idle": "2024-05-31T23:52:07.876077Z",
          "shell.execute_reply.started": "2024-05-31T23:52:02.621601Z",
          "shell.execute_reply": "2024-05-31T23:52:07.874428Z"
        },
        "trusted": true,
        "id": "T1yF6XaUGQJX"
      },
      "execution_count": null,
      "outputs": []
    }
  ]
}